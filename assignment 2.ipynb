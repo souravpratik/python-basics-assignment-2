{
 "cells": [
  {
   "cell_type": "raw",
   "id": "2be951cc",
   "metadata": {},
   "source": [
    "##QUESTION 1:\n",
    "\n",
    "BOOLEAN Data type: \n",
    "it contain two values as follows: TRUE & FALSE\n",
    "\n",
    "We can write boolean data type in two different ways:-\n",
    "[i]  Using bool() function\n",
    "[ii] using simple comparision method using arithmetic operators,AND,OR,NOT,EQIVALENT(==),NOT EQUIVALENT(!=)\n"
   ]
  },
  {
   "cell_type": "raw",
   "id": "f125feae",
   "metadata": {},
   "source": [
    "##QUESTION 2:\n",
    "\n",
    "BOOLEAN operators:- AND , OR , NOT"
   ]
  },
  {
   "cell_type": "raw",
   "id": "b55e91d1",
   "metadata": {},
   "source": [
    "##QUESTION 3:\n",
    "\n",
    "Combinations of different BOOLEAN operators:-\n",
    "\n",
    "[i] OR   :-   TRUE  + TRUE  = TRUE\n",
    "              TRUE  + FALSE = TRUE\n",
    "              FALSE + TRUE  = TRUE\n",
    "              FALSE + FALSE = FALSE\n",
    "            \n",
    "[ii] AND :-   TRUE  + TRUE  = TRUE\n",
    "              TRUE  + FALSE = FALSE\n",
    "              FALSE + TRUE  = FALSE\n",
    "              FALSE + FALSE = FALSE\n",
    "              \n",
    "[iii] NOT:-   TRUE  = false   \n",
    "              FALSE = true\n",
    "              "
   ]
  },
  {
   "cell_type": "code",
   "execution_count": 7,
   "id": "1b0d832c",
   "metadata": {},
   "outputs": [
    {
     "name": "stdout",
     "output_type": "stream",
     "text": [
      "False\n",
      "False\n",
      "True\n",
      "False\n",
      "TRUE\n",
      "True\n"
     ]
    }
   ],
   "source": [
    "##QUESTION 4:\n",
    "\n",
    "a= 5>4 and 3==5\n",
    "print (a)\n",
    "\n",
    "b= not(5>4)\n",
    "print(b)\n",
    "\n",
    "c= 5>4 or 3==5\n",
    "print(c)\n",
    "\n",
    "d= not((5>4) or (3==5))\n",
    "print(d)\n",
    "\n",
    "true=1\n",
    "false=0\n",
    "e= ((true and true) or (true == false))\n",
    "\n",
    "if e==1:\n",
    "    print(\"TRUE\")\n",
    "elif e==0:\n",
    "    print(\"FALSE\")\n",
    "    \n",
    "f= ((not false) or (not true))\n",
    "print(f)\n",
    "\n",
    "\n",
    "    \n",
    "\n",
    "\n"
   ]
  },
  {
   "cell_type": "raw",
   "id": "ea574311",
   "metadata": {},
   "source": [
    "## QUESTION 5:\n",
    "\n",
    "SIX comparision Operators are as follows:-\n",
    "[i]   EQUAL to              (==)\n",
    "[ii]  NOT EQUAL to          (!=)\n",
    "[iii] GREATER than          (>)\n",
    "[iv]  LESS than             (<)\n",
    "[v]   GREATER than Equal to (>=)\n",
    "[vi]  LESS than Equal to    (<=)\n"
   ]
  },
  {
   "cell_type": "code",
   "execution_count": 9,
   "id": "c9220ab4",
   "metadata": {},
   "outputs": [
    {
     "name": "stdout",
     "output_type": "stream",
     "text": [
      "2\n"
     ]
    },
    {
     "data": {
      "text/plain": [
       "True"
      ]
     },
     "execution_count": 9,
     "metadata": {},
     "output_type": "execute_result"
    }
   ],
   "source": [
    "## QUESTION 6:\n",
    "\n",
    "##'Assignment' operator :- These are used to assign a value within a variable\n",
    "#example: \n",
    "a=2\n",
    "print(a)\n",
    "\n",
    "##'Equal to' operator :- These are used to check the condition whether the two value are equal or not and if it is so then it returns the value as TRUE else FALSE.\n",
    "# example:\n",
    "5==5"
   ]
  },
  {
   "cell_type": "code",
   "execution_count": 2,
   "id": "0513829a",
   "metadata": {},
   "outputs": [
    {
     "name": "stdout",
     "output_type": "stream",
     "text": [
      "ham\n",
      "spam\n",
      "spam\n"
     ]
    }
   ],
   "source": [
    "##QUESTION 7:\n",
    "spam = 0\n",
    "if spam == 10:\n",
    "    print(\"eggs\")   \n",
    "    if spam> 5:\n",
    "        print(\"bacon\")\n",
    "else:\n",
    "    print(\"ham\")\n",
    "    print(\"spam\")\n",
    "    print(\"spam\")"
   ]
  },
  {
   "cell_type": "code",
   "execution_count": 6,
   "id": "f44d194c",
   "metadata": {},
   "outputs": [
    {
     "name": "stdout",
     "output_type": "stream",
     "text": [
      "enter the value of spam=  4\n",
      "Greetings\n"
     ]
    }
   ],
   "source": [
    "##QUESTION 8:\n",
    "\n",
    "spam =int(input(\"enter the value of spam=  \"))\n",
    "if spam==1:\n",
    "    print(\"Hello\")\n",
    "    \n",
    "elif spam==2:\n",
    "    print(\"Howdy\")\n",
    "    \n",
    "else: \n",
    "    print (\"Greetings\")\n",
    "    \n",
    "    "
   ]
  },
  {
   "cell_type": "raw",
   "id": "b6558a6d",
   "metadata": {},
   "source": [
    "##QUESTION 9:\n",
    "\n",
    "An infinite loop can be stopped by Pressing Ctrl+C to intrupt in between from keyboard."
   ]
  },
  {
   "cell_type": "raw",
   "id": "91688e4c",
   "metadata": {},
   "source": [
    "##QUESTION 10:\n",
    "\n",
    "BREAK    : It helps us to break the loop or can say leave the remaining execution of the entire loop.\n",
    "\n",
    "CONTINUE : It helps us to jump off few statements left off in the loop and proceed to next iteration.\n",
    "\n",
    "\n"
   ]
  },
  {
   "cell_type": "code",
   "execution_count": 44,
   "id": "0a4e38a2",
   "metadata": {},
   "outputs": [
    {
     "name": "stdout",
     "output_type": "stream",
     "text": [
      "0 1 2 3 4 5 6 7 8 9 \n",
      "0 1 2 3 4 5 6 7 8 9 \n",
      "0 1 2 3 4 5 6 7 8 9 \n"
     ]
    }
   ],
   "source": [
    "##QUESTION 11:\n",
    "\n",
    "for i in range(10):\n",
    "    print(i,end=\" \")\n",
    "print()\n",
    "    \n",
    "for i in range(0,10):\n",
    "    print(i,end=\" \")\n",
    "print()\n",
    "for i in range(0,10,1):\n",
    "    print (i,end=\" \")\n",
    "print()"
   ]
  },
  {
   "cell_type": "code",
   "execution_count": 45,
   "id": "9350f764",
   "metadata": {
    "scrolled": true
   },
   "outputs": [
    {
     "name": "stdout",
     "output_type": "stream",
     "text": [
      "1 2 3 4 5 6 7 8 9 10 \n",
      "1 2 3 4 5 6 7 8 9 10 "
     ]
    }
   ],
   "source": [
    "##QUESTION 12\n",
    "\n",
    "for i in range(1,11):\n",
    "    print(i,end=\" \")\n",
    "print()\n",
    "\n",
    "i=1     \n",
    "while i<11:\n",
    "    print(i, end=\" \")\n",
    "    i=i+1\n",
    "    "
   ]
  },
  {
   "cell_type": "raw",
   "id": "7e650587",
   "metadata": {},
   "source": [
    "##QUESTION 13\n",
    "\n",
    "import spam\n",
    "a= spam.bacon()\n"
   ]
  },
  {
   "cell_type": "code",
   "execution_count": null,
   "id": "998e6737",
   "metadata": {},
   "outputs": [],
   "source": []
  }
 ],
 "metadata": {
  "kernelspec": {
   "display_name": "Python 3 (ipykernel)",
   "language": "python",
   "name": "python3"
  },
  "language_info": {
   "codemirror_mode": {
    "name": "ipython",
    "version": 3
   },
   "file_extension": ".py",
   "mimetype": "text/x-python",
   "name": "python",
   "nbconvert_exporter": "python",
   "pygments_lexer": "ipython3",
   "version": "3.9.7"
  }
 },
 "nbformat": 4,
 "nbformat_minor": 5
}
